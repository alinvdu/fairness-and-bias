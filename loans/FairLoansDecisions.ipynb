{
 "cells": [
  {
   "cell_type": "markdown",
   "metadata": {},
   "source": [
    "## Aliens vs Predators - Snowboarders vs Skiers."
   ]
  },
  {
   "cell_type": "markdown",
   "metadata": {},
   "source": [
    "### Stage 1:\n",
    "Generate biased dataset of a ski condo loan. The loans targets decisions for skiers and snowboarders.\n",
    "On average, it has more data on aliens than on predators.\n",
    "On average, snowboarders pay back historic loans at higher rates than skiers.\n",
    "This bias is simulated in the data\n",
    "\n",
    "Note: The above assumption is that this is bias, it might not be, it can be simply the case that aliens are better than predators, but we assume that this is bias in the data and we try to eliminate."
   ]
  },
  {
   "cell_type": "code",
   "execution_count": 132,
   "metadata": {},
   "outputs": [],
   "source": [
    "import numpy as np\n",
    "import pandas as pd\n",
    "import seaborn as sn\n",
    "\n",
    "from sklearn.model_selection import train_test_split\n",
    "from sklearn.linear_model import LogisticRegression\n",
    "from sklearn.metrics import confusion_matrix"
   ]
  },
  {
   "cell_type": "code",
   "execution_count": 133,
   "metadata": {},
   "outputs": [
    {
     "data": {
      "text/html": [
       "<div>\n",
       "<style scoped>\n",
       "    .dataframe tbody tr th:only-of-type {\n",
       "        vertical-align: middle;\n",
       "    }\n",
       "\n",
       "    .dataframe tbody tr th {\n",
       "        vertical-align: top;\n",
       "    }\n",
       "\n",
       "    .dataframe thead th {\n",
       "        text-align: right;\n",
       "    }\n",
       "</style>\n",
       "<table border=\"1\" class=\"dataframe\">\n",
       "  <thead>\n",
       "    <tr style=\"text-align: right;\">\n",
       "      <th></th>\n",
       "      <th>Race</th>\n",
       "      <th>Type</th>\n",
       "      <th>Credit_Score</th>\n",
       "      <th>Repayment_Rate</th>\n",
       "      <th>Loan_Repayment</th>\n",
       "      <th>Stratify_Key</th>\n",
       "    </tr>\n",
       "  </thead>\n",
       "  <tbody>\n",
       "    <tr>\n",
       "      <th>0</th>\n",
       "      <td>Alien</td>\n",
       "      <td>Snowboarder</td>\n",
       "      <td>749</td>\n",
       "      <td>1</td>\n",
       "      <td>1</td>\n",
       "      <td>Alien_Snowboarder</td>\n",
       "    </tr>\n",
       "    <tr>\n",
       "      <th>1</th>\n",
       "      <td>Alien</td>\n",
       "      <td>Snowboarder</td>\n",
       "      <td>749</td>\n",
       "      <td>1</td>\n",
       "      <td>1</td>\n",
       "      <td>Alien_Snowboarder</td>\n",
       "    </tr>\n",
       "    <tr>\n",
       "      <th>2</th>\n",
       "      <td>Alien</td>\n",
       "      <td>Snowboarder</td>\n",
       "      <td>687</td>\n",
       "      <td>1</td>\n",
       "      <td>0</td>\n",
       "      <td>Alien_Snowboarder</td>\n",
       "    </tr>\n",
       "    <tr>\n",
       "      <th>3</th>\n",
       "      <td>Alien</td>\n",
       "      <td>Skier</td>\n",
       "      <td>677</td>\n",
       "      <td>1</td>\n",
       "      <td>0</td>\n",
       "      <td>Alien_Skier</td>\n",
       "    </tr>\n",
       "    <tr>\n",
       "      <th>4</th>\n",
       "      <td>Alien</td>\n",
       "      <td>Snowboarder</td>\n",
       "      <td>728</td>\n",
       "      <td>1</td>\n",
       "      <td>1</td>\n",
       "      <td>Alien_Snowboarder</td>\n",
       "    </tr>\n",
       "  </tbody>\n",
       "</table>\n",
       "</div>"
      ],
      "text/plain": [
       "    Race         Type  Credit_Score  Repayment_Rate  Loan_Repayment  \\\n",
       "0  Alien  Snowboarder           749               1               1   \n",
       "1  Alien  Snowboarder           749               1               1   \n",
       "2  Alien  Snowboarder           687               1               0   \n",
       "3  Alien        Skier           677               1               0   \n",
       "4  Alien  Snowboarder           728               1               1   \n",
       "\n",
       "        Stratify_Key  \n",
       "0  Alien_Snowboarder  \n",
       "1  Alien_Snowboarder  \n",
       "2  Alien_Snowboarder  \n",
       "3        Alien_Skier  \n",
       "4  Alien_Snowboarder  "
      ]
     },
     "execution_count": 133,
     "metadata": {},
     "output_type": "execute_result"
    }
   ],
   "source": [
    "race_choices = ['Alien', 'Predator', 'N/A']\n",
    "race_probs = [0.8, 0.1, 0.1]\n",
    "num_samples=10000\n",
    "num_samples_unbiased=5000\n",
    "\n",
    "def biased_credit_score(row, not_biased=False):\n",
    "    if row['Race'] == 'Alien' and row['Type'] == 'Snowboarder' and not not_biased:\n",
    "        return np.random.normal(loc=750, scale=50)\n",
    "    else:\n",
    "        return np.random.normal(loc=650, scale=50)\n",
    "    \n",
    "def biased_repayment_rate(row, not_biased=False):\n",
    "    if row['Race'] == 'Alien' and row['Type'] == 'Snowboarder' and not not_biased:\n",
    "        return np.random.choice([0, 1], p=[0.2, 0.8]) # biased towards snowboarder\n",
    "    else:\n",
    "        return np.random.choice([0, 1], p=[0.4, 0.6])\n",
    "\n",
    "biased_data = {\n",
    "    'Race': np.random.choice(race_choices, num_samples, p=race_probs),\n",
    "    'Type': np.random.choice(['Skier', 'Snowboarder'], num_samples)\n",
    "}\n",
    "\n",
    "unbiased_data = {\n",
    "    'Race': np.random.choice(race_choices, num_samples_unbiased, p=[1/3, 1/3, 1/3]),\n",
    "    'Type': np.random.choice(['Skier', 'Snowboarder'], num_samples_unbiased)\n",
    "}\n",
    "\n",
    "biased_df = pd.DataFrame(biased_data)\n",
    "biased_df['Credit_Score'] = biased_df.apply(biased_credit_score, axis=1).astype(int)\n",
    "biased_df['Repayment_Rate'] = biased_df.apply(biased_repayment_rate, axis=1)\n",
    "\n",
    "biased_df['Credit_Score'] = biased_df['Credit_Score'].clip(lower=300, upper=850)\n",
    "\n",
    "unbiased_df = pd.DataFrame(unbiased_data)\n",
    "unbiased_df['Credit_Score'] = unbiased_df.apply(biased_credit_score, axis=1, args=(True,)).astype(int)\n",
    "unbiased_df['Repayment_Rate'] = unbiased_df.apply(biased_repayment_rate, args=(True,), axis=1)\n",
    "\n",
    "unbiased_df['Credit_Score'] = unbiased_df['Credit_Score'].clip(lower=300, upper=850)\n",
    "\n",
    "\n",
    "# target\n",
    "biased_df['Loan_Repayment'] = ((biased_df['Credit_Score'] > 700) & (biased_df['Repayment_Rate'] == 1)).astype(int)\n",
    "unbiased_df['Loan_Repayment'] = ((unbiased_df['Credit_Score'] > 650) & (unbiased_df['Repayment_Rate'] == 1)).astype(int)\n",
    "\n",
    "biased_df['Stratify_Key'] = biased_df['Race'] + \"_\" + biased_df['Type']\n",
    "unbiased_df['Stratify_Key'] = unbiased_df['Race'] + \"_\" + unbiased_df['Type']\n",
    "\n",
    "biased_df.head()"
   ]
  },
  {
   "cell_type": "markdown",
   "metadata": {},
   "source": [
    "#### Step 2 - Develop algorithm with statistical parity on blind attributes\n",
    "Decide on blind attribute model: credit score + historic loan repayment rate<br />\n",
    "Decide method of fairness: equality of false negatives<br />\n",
    "Select training data that equally represents all groups as evenly as possible<br />"
   ]
  },
  {
   "cell_type": "code",
   "execution_count": 134,
   "metadata": {},
   "outputs": [],
   "source": [
    "biased_stratify_key = biased_df['Stratify_Key']\n",
    "unbiased_stratify_key = unbiased_df['Stratify_Key']\n",
    "\n",
    "# Manually balance the group by sampling them at the same frequency\n",
    "min_group_size = biased_df['Stratify_Key'].value_counts().min()\n",
    "balanced_df = pd.DataFrame()\n",
    "\n",
    "for group in biased_df['Stratify_Key'].unique():\n",
    "    group_subset = biased_df[biased_df['Stratify_Key'] == group]\n",
    "    sampled_subset = group_subset.sample(n=min_group_size, random_state=42)\n",
    "    balanced_df = pd.concat([balanced_df, sampled_subset], axis=0)\n",
    "\n",
    "X_train = balanced_df[['Credit_Score', 'Repayment_Rate']]\n",
    "Y_train = balanced_df['Loan_Repayment']\n",
    "\n",
    "X_test = biased_df[['Credit_Score', 'Repayment_Rate']].copy()\n",
    "Y_test = biased_df['Loan_Repayment']"
   ]
  },
  {
   "cell_type": "code",
   "execution_count": 135,
   "metadata": {},
   "outputs": [],
   "source": [
    "# Train a logistic regression model focusing on credit score and historic loan repayment rate as features\n",
    "# This is a blind classifier, without any fairness\n",
    "loanClassifier_without_fairness = LogisticRegression(random_state=0).fit(X_train, Y_train)"
   ]
  },
  {
   "cell_type": "code",
   "execution_count": 136,
   "metadata": {},
   "outputs": [
    {
     "name": "stdout",
     "output_type": "stream",
     "text": [
      "0.9817\n"
     ]
    }
   ],
   "source": [
    "# print the score on the test set - remember the test set is biased as well in this case, because it's a historical test set\n",
    "print(loanClassifier_without_fairness.score(X_test, Y_test))\n",
    "Y_pred = loanClassifier_without_fairness.predict(X_test)"
   ]
  },
  {
   "cell_type": "code",
   "execution_count": 137,
   "metadata": {},
   "outputs": [
    {
     "name": "stdout",
     "output_type": "stream",
     "text": [
      "[[6708   89]\n",
      " [  94 3109]]\n"
     ]
    }
   ],
   "source": [
    "cm = confusion_matrix(Y_test, Y_pred)\n",
    "print(cm)"
   ]
  },
  {
   "cell_type": "code",
   "execution_count": 138,
   "metadata": {},
   "outputs": [],
   "source": [
    "def plot_cm(cm):\n",
    "    classes = ['denied', 'accepted']\n",
    "    df_cm = pd.DataFrame(cm, index=classes, columns=classes)\n",
    "    ax = sn.heatmap(df_cm, annot=True, fmt='g')\n",
    "    ax.set_xlabel(\"Predicted\")\n",
    "    ax.set_ylabel(\"Target\")"
   ]
  },
  {
   "cell_type": "code",
   "execution_count": 139,
   "metadata": {},
   "outputs": [
    {
     "data": {
      "image/png": "[encoded data removed]",
      "text/plain": [
       "<Figure size 640x480 with 2 Axes>"
      ]
     },
     "metadata": {},
     "output_type": "display_data"
    }
   ],
   "source": [
    "plot_cm(cm)"
   ]
  },
  {
   "cell_type": "code",
   "execution_count": 140,
   "metadata": {},
   "outputs": [],
   "source": [
    "def calculate_group_fnr(X_test, Y_test, Y_pred):\n",
    "    group_fnr = {}\n",
    "    \n",
    "    for group in X_test['Stratify_Key'].unique():\n",
    "        # Get indices for the current group based on Stratify_Key\n",
    "        group_indices = X_test[X_test['Stratify_Key'] == group].index\n",
    "        \n",
    "        # Calculate confusion matrix for the group\n",
    "        cm = confusion_matrix(Y_test.loc[group_indices], Y_pred[group_indices])\n",
    "        TN, FP, FN, TP = cm.ravel()\n",
    "        \n",
    "        # Calculate FNR = FN / (FN + TP)\n",
    "        fnr = FN / (FN + TP) if (FN + TP) > 0 else 0\n",
    "        group_fnr[group] = fnr\n",
    "    \n",
    "    return group_fnr"
   ]
  },
  {
   "cell_type": "code",
   "execution_count": 141,
   "metadata": {},
   "outputs": [
    {
     "name": "stdout",
     "output_type": "stream",
     "text": [
      "Group false negative rates are:\n",
      "\n",
      "Predator_Skier: 0.13\n",
      "N/A_Snowboarder: 0.08\n",
      "Predator_Snowboarder: 0.07\n",
      "Alien_Skier: 0.07\n",
      "N/A_Skier: 0.05\n",
      "Alien_Snowboarder: 0.02\n"
     ]
    }
   ],
   "source": [
    "X_test['Stratify_Key'] = biased_df['Stratify_Key']\n",
    "group_fnr_biased = calculate_group_fnr(X_test, Y_test, Y_pred)\n",
    "sorted_group_fnr_biased = sorted(group_fnr_biased.items(), key=lambda item: -item[1])\n",
    "print(f\"Group false negative rates are:\")\n",
    "print(\"\")\n",
    "for key, value in sorted_group_fnr_biased:\n",
    "    print(f\"{key}: {value:.2f}\")"
   ]
  },
  {
   "cell_type": "markdown",
   "metadata": {},
   "source": [
    "#### Conclusion:\n",
    "We can see from the above that the model favours alien snowboarders despite equally including all groups. And this makes sense since the model itself is as good as its data"
   ]
  },
  {
   "cell_type": "markdown",
   "metadata": {},
   "source": [
    "#### Step 3 - Develop algorithm for subgroup fairness including type, race, credit score, repayment rates\n",
    "Decide protected attribute model: type, race, credit score, repayment rates<br />\n",
    "Feed protected attributes into a subgroup fairness model and figure out which is the best point to have equality of false negatives<br />\n",
    "Select training data that equally represents all groups as evenly as possible<br />"
   ]
  },
  {
   "cell_type": "code",
   "execution_count": 142,
   "metadata": {},
   "outputs": [],
   "source": [
    "# try to implement weight adjustment in the regression model where the weights\n",
    "# are balanced based on false negatives - this is essentially the protected attributes subgroup\n",
    "# fairness strategy\n",
    "\n",
    "group = balanced_df['Stratify_Key']\n",
    "\n",
    "epsilon = 1e-6\n",
    "weights = np.ones(len(Y_train))\n",
    "for group_label, bias_rate in sorted_group_fnr_biased:\n",
    "    weights[group == group_label] = 1 / bias_rate\n",
    "\n",
    "weights /= np.mean(weights)"
   ]
  },
  {
   "cell_type": "code",
   "execution_count": 143,
   "metadata": {},
   "outputs": [
    {
     "data": {
      "text/html": [
       "<style>#sk-container-id-8 {color: black;}#sk-container-id-8 pre{padding: 0;}#sk-container-id-8 div.sk-toggleable {background-color: white;}#sk-container-id-8 label.sk-toggleable__label {cursor: pointer;display: block;width: 100%;margin-bottom: 0;padding: 0.3em;box-sizing: border-box;text-align: center;}#sk-container-id-8 label.sk-toggleable__label-arrow:before {content: \"▸\";float: left;margin-right: 0.25em;color: #696969;}#sk-container-id-8 label.sk-toggleable__label-arrow:hover:before {color: black;}#sk-container-id-8 div.sk-estimator:hover label.sk-toggleable__label-arrow:before {color: black;}#sk-container-id-8 div.sk-toggleable__content {max-height: 0;max-width: 0;overflow: hidden;text-align: left;background-color: #f0f8ff;}#sk-container-id-8 div.sk-toggleable__content pre {margin: 0.2em;color: black;border-radius: 0.25em;background-color: #f0f8ff;}#sk-container-id-8 input.sk-toggleable__control:checked~div.sk-toggleable__content {max-height: 200px;max-width: 100%;overflow: auto;}#sk-container-id-8 input.sk-toggleable__control:checked~label.sk-toggleable__label-arrow:before {content: \"▾\";}#sk-container-id-8 div.sk-estimator input.sk-toggleable__control:checked~label.sk-toggleable__label {background-color: #d4ebff;}#sk-container-id-8 div.sk-label input.sk-toggleable__control:checked~label.sk-toggleable__label {background-color: #d4ebff;}#sk-container-id-8 input.sk-hidden--visually {border: 0;clip: rect(1px 1px 1px 1px);clip: rect(1px, 1px, 1px, 1px);height: 1px;margin: -1px;overflow: hidden;padding: 0;position: absolute;width: 1px;}#sk-container-id-8 div.sk-estimator {font-family: monospace;background-color: #f0f8ff;border: 1px dotted black;border-radius: 0.25em;box-sizing: border-box;margin-bottom: 0.5em;}#sk-container-id-8 div.sk-estimator:hover {background-color: #d4ebff;}#sk-container-id-8 div.sk-parallel-item::after {content: \"\";width: 100%;border-bottom: 1px solid gray;flex-grow: 1;}#sk-container-id-8 div.sk-label:hover label.sk-toggleable__label {background-color: #d4ebff;}#sk-container-id-8 div.sk-serial::before {content: \"\";position: absolute;border-left: 1px solid gray;box-sizing: border-box;top: 0;bottom: 0;left: 50%;z-index: 0;}#sk-container-id-8 div.sk-serial {display: flex;flex-direction: column;align-items: center;background-color: white;padding-right: 0.2em;padding-left: 0.2em;position: relative;}#sk-container-id-8 div.sk-item {position: relative;z-index: 1;}#sk-container-id-8 div.sk-parallel {display: flex;align-items: stretch;justify-content: center;background-color: white;position: relative;}#sk-container-id-8 div.sk-item::before, #sk-container-id-8 div.sk-parallel-item::before {content: \"\";position: absolute;border-left: 1px solid gray;box-sizing: border-box;top: 0;bottom: 0;left: 50%;z-index: -1;}#sk-container-id-8 div.sk-parallel-item {display: flex;flex-direction: column;z-index: 1;position: relative;background-color: white;}#sk-container-id-8 div.sk-parallel-item:first-child::after {align-self: flex-end;width: 50%;}#sk-container-id-8 div.sk-parallel-item:last-child::after {align-self: flex-start;width: 50%;}#sk-container-id-8 div.sk-parallel-item:only-child::after {width: 0;}#sk-container-id-8 div.sk-dashed-wrapped {border: 1px dashed gray;margin: 0 0.4em 0.5em 0.4em;box-sizing: border-box;padding-bottom: 0.4em;background-color: white;}#sk-container-id-8 div.sk-label label {font-family: monospace;font-weight: bold;display: inline-block;line-height: 1.2em;}#sk-container-id-8 div.sk-label-container {text-align: center;}#sk-container-id-8 div.sk-container {/* jupyter's `normalize.less` sets `[hidden] { display: none; }` but bootstrap.min.css set `[hidden] { display: none !important; }` so we also need the `!important` here to be able to override the default hidden behavior on the sphinx rendered scikit-learn.org. See: https://github.com/scikit-learn/scikit-learn/issues/21755 */display: inline-block !important;position: relative;}#sk-container-id-8 div.sk-text-repr-fallback {display: none;}</style><div id=\"sk-container-id-8\" class=\"sk-top-container\"><div class=\"sk-text-repr-fallback\"><pre>LogisticRegression()</pre><b>In a Jupyter environment, please rerun this cell to show the HTML representation or trust the notebook. <br />On GitHub, the HTML representation is unable to render, please try loading this page with nbviewer.org.</b></div><div class=\"sk-container\" hidden><div class=\"sk-item\"><div class=\"sk-estimator sk-toggleable\"><input class=\"sk-toggleable__control sk-hidden--visually\" id=\"sk-estimator-id-8\" type=\"checkbox\" checked><label for=\"sk-estimator-id-8\" class=\"sk-toggleable__label sk-toggleable__label-arrow\">LogisticRegression</label><div class=\"sk-toggleable__content\"><pre>LogisticRegression()</pre></div></div></div></div></div>"
      ],
      "text/plain": [
       "LogisticRegression()"
      ]
     },
     "execution_count": 143,
     "metadata": {},
     "output_type": "execute_result"
    }
   ],
   "source": [
    "loanClassifier_with_subgroup_fairness = LogisticRegression()\n",
    "loanClassifier_with_subgroup_fairness.fit(X_train, Y_train, sample_weight=weights)"
   ]
  },
  {
   "cell_type": "code",
   "execution_count": 144,
   "metadata": {},
   "outputs": [
    {
     "name": "stdout",
     "output_type": "stream",
     "text": [
      "0.9925\n"
     ]
    }
   ],
   "source": [
    "X_test = biased_df[['Credit_Score', 'Repayment_Rate']].copy()\n",
    "Y_test = biased_df['Loan_Repayment']\n",
    "\n",
    "print(loanClassifier_with_subgroup_fairness.score(X_test, Y_test))\n",
    "Y_pred = loanClassifier_with_subgroup_fairness.predict(X_test)"
   ]
  },
  {
   "cell_type": "code",
   "execution_count": 145,
   "metadata": {},
   "outputs": [
    {
     "data": {
      "image/png": "[encoded data removed]",
      "text/plain": [
       "<Figure size 640x480 with 2 Axes>"
      ]
     },
     "metadata": {},
     "output_type": "display_data"
    }
   ],
   "source": [
    "cm = confusion_matrix(Y_test, Y_pred)\n",
    "plot_cm(cm)"
   ]
  },
  {
   "cell_type": "code",
   "execution_count": 146,
   "metadata": {},
   "outputs": [
    {
     "name": "stdout",
     "output_type": "stream",
     "text": [
      "Group false negative rates are:\n",
      "\n",
      "Alien_Skier: 0.02\n",
      "Predator_Skier: 0.02\n",
      "N/A_Snowboarder: 0.02\n",
      "Predator_Snowboarder: 0.02\n",
      "Alien_Snowboarder: 0.01\n",
      "N/A_Skier: 0.00\n"
     ]
    }
   ],
   "source": [
    "X_test['Stratify_Key'] = biased_df['Stratify_Key']\n",
    "group_fnr_biased = calculate_group_fnr(X_test, Y_test, Y_pred)\n",
    "sorted_group_fnr_biased = sorted(group_fnr_biased.items(), key=lambda item: -item[1])\n",
    "print(f\"Group false negative rates are:\")\n",
    "print(\"\")\n",
    "for key, value in sorted_group_fnr_biased:\n",
    "    print(f\"{key}: {value:.2f}\")"
   ]
  },
  {
   "cell_type": "markdown",
   "metadata": {},
   "source": [
    "### Conclusion\n",
    "The model does way better on false negatives considering all groups"
   ]
  },
  {
   "cell_type": "code",
   "execution_count": null,
   "metadata": {},
   "outputs": [],
   "source": []
  }
 ],
 "metadata": {
  "kernelspec": {
   "display_name": "base",
   "language": "python",
   "name": "python3"
  },
  "language_info": {
   "codemirror_mode": {
    "name": "ipython",
    "version": 3
   },
   "file_extension": ".py",
   "mimetype": "text/x-python",
   "name": "python",
   "nbconvert_exporter": "python",
   "pygments_lexer": "ipython3",
   "version": "3.11.5"
  }
 },
 "nbformat": 4,
 "nbformat_minor": 2
}
