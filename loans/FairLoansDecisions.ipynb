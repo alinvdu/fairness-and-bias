{
 "cells": [
  {
   "cell_type": "markdown",
   "metadata": {},
   "source": [
    "### Stage 1:\n",
    "Generate biased dataset of a ski condo loan. The loans targets decisions for skiers and snowboarders.\n",
    "On average, it has more data on men.\n",
    "On average, snowboarders pay back historic loans at higher rates than skiers.\n",
    "This bias is simulated in the data"
   ]
  },
  {
   "cell_type": "code",
   "execution_count": 464,
   "metadata": {},
   "outputs": [],
   "source": [
    "import numpy as np\n",
    "import pandas as pd\n",
    "import seaborn as sn\n",
    "\n",
    "from sklearn.model_selection import train_test_split\n",
    "from sklearn.linear_model import LogisticRegression\n",
    "from sklearn.metrics import confusion_matrix"
   ]
  },
  {
   "cell_type": "code",
   "execution_count": 467,
   "metadata": {},
   "outputs": [
    {
     "data": {
      "text/html": [
       "<div>\n",
       "<style scoped>\n",
       "    .dataframe tbody tr th:only-of-type {\n",
       "        vertical-align: middle;\n",
       "    }\n",
       "\n",
       "    .dataframe tbody tr th {\n",
       "        vertical-align: top;\n",
       "    }\n",
       "\n",
       "    .dataframe thead th {\n",
       "        text-align: right;\n",
       "    }\n",
       "</style>\n",
       "<table border=\"1\" class=\"dataframe\">\n",
       "  <thead>\n",
       "    <tr style=\"text-align: right;\">\n",
       "      <th></th>\n",
       "      <th>Gender</th>\n",
       "      <th>Type</th>\n",
       "      <th>Credit_Score</th>\n",
       "      <th>Repayment_Rate</th>\n",
       "      <th>Loan_Repayment</th>\n",
       "      <th>Stratify_Key</th>\n",
       "    </tr>\n",
       "  </thead>\n",
       "  <tbody>\n",
       "    <tr>\n",
       "      <th>0</th>\n",
       "      <td>Male</td>\n",
       "      <td>Snowboarder</td>\n",
       "      <td>733</td>\n",
       "      <td>0</td>\n",
       "      <td>0</td>\n",
       "      <td>Male_Snowboarder</td>\n",
       "    </tr>\n",
       "    <tr>\n",
       "      <th>1</th>\n",
       "      <td>N/A</td>\n",
       "      <td>Snowboarder</td>\n",
       "      <td>623</td>\n",
       "      <td>1</td>\n",
       "      <td>0</td>\n",
       "      <td>N/A_Snowboarder</td>\n",
       "    </tr>\n",
       "    <tr>\n",
       "      <th>2</th>\n",
       "      <td>Male</td>\n",
       "      <td>Skier</td>\n",
       "      <td>604</td>\n",
       "      <td>1</td>\n",
       "      <td>0</td>\n",
       "      <td>Male_Skier</td>\n",
       "    </tr>\n",
       "    <tr>\n",
       "      <th>3</th>\n",
       "      <td>Male</td>\n",
       "      <td>Skier</td>\n",
       "      <td>623</td>\n",
       "      <td>1</td>\n",
       "      <td>0</td>\n",
       "      <td>Male_Skier</td>\n",
       "    </tr>\n",
       "    <tr>\n",
       "      <th>4</th>\n",
       "      <td>Male</td>\n",
       "      <td>Skier</td>\n",
       "      <td>545</td>\n",
       "      <td>1</td>\n",
       "      <td>0</td>\n",
       "      <td>Male_Skier</td>\n",
       "    </tr>\n",
       "  </tbody>\n",
       "</table>\n",
       "</div>"
      ],
      "text/plain": [
       "  Gender         Type  Credit_Score  Repayment_Rate  Loan_Repayment  \\\n",
       "0   Male  Snowboarder           733               0               0   \n",
       "1    N/A  Snowboarder           623               1               0   \n",
       "2   Male        Skier           604               1               0   \n",
       "3   Male        Skier           623               1               0   \n",
       "4   Male        Skier           545               1               0   \n",
       "\n",
       "       Stratify_Key  \n",
       "0  Male_Snowboarder  \n",
       "1   N/A_Snowboarder  \n",
       "2        Male_Skier  \n",
       "3        Male_Skier  \n",
       "4        Male_Skier  "
      ]
     },
     "execution_count": 467,
     "metadata": {},
     "output_type": "execute_result"
    }
   ],
   "source": [
    "gender_choices = ['Male', 'Female', 'N/A']\n",
    "gender_probs = [0.8, 0.1, 0.1]\n",
    "num_samples=10000\n",
    "num_samples_unbiased=5000\n",
    "\n",
    "def biased_credit_score(row, not_biased=False):\n",
    "    if row['Gender'] == 'Male' and row['Type'] == 'Snowboarder' and not not_biased:\n",
    "        return np.random.normal(loc=750, scale=50)\n",
    "    else:\n",
    "        return np.random.normal(loc=650, scale=50)\n",
    "    \n",
    "def biased_repayment_rate(row, not_biased=False):\n",
    "    if row['Gender'] == 'Male' and row['Type'] == 'Snowboarder' and not not_biased:\n",
    "        return np.random.choice([0, 1], p=[0.2, 0.8]) # biased towards snowboarder\n",
    "    else:\n",
    "        return np.random.choice([0, 1], p=[0.4, 0.6])\n",
    "\n",
    "biased_data = {\n",
    "    'Gender': np.random.choice(gender_choices, num_samples, p=gender_probs),\n",
    "    'Type': np.random.choice(['Skier', 'Snowboarder'], num_samples)\n",
    "}\n",
    "\n",
    "unbiased_data = {\n",
    "    'Gender': np.random.choice(gender_choices, num_samples_unbiased, p=[1/3, 1/3, 1/3]),\n",
    "    'Type': np.random.choice(['Skier', 'Snowboarder'], num_samples_unbiased)\n",
    "}\n",
    "\n",
    "biased_df = pd.DataFrame(biased_data)\n",
    "biased_df['Credit_Score'] = biased_df.apply(biased_credit_score, axis=1).astype(int)\n",
    "biased_df['Repayment_Rate'] = biased_df.apply(biased_repayment_rate, axis=1)\n",
    "\n",
    "biased_df['Credit_Score'] = biased_df['Credit_Score'].clip(lower=300, upper=850)\n",
    "\n",
    "unbiased_df = pd.DataFrame(unbiased_data)\n",
    "unbiased_df['Credit_Score'] = unbiased_df.apply(biased_credit_score, axis=1, args=(True,)).astype(int)\n",
    "unbiased_df['Repayment_Rate'] = unbiased_df.apply(biased_repayment_rate, args=(True,), axis=1)\n",
    "\n",
    "unbiased_df['Credit_Score'] = unbiased_df['Credit_Score'].clip(lower=300, upper=850)\n",
    "\n",
    "\n",
    "# target\n",
    "biased_df['Loan_Repayment'] = ((biased_df['Credit_Score'] > 700) & (biased_df['Repayment_Rate'] == 1)).astype(int)\n",
    "unbiased_df['Loan_Repayment'] = ((unbiased_df['Credit_Score'] > 650) & (unbiased_df['Repayment_Rate'] == 1)).astype(int)\n",
    "\n",
    "biased_df['Stratify_Key'] = biased_df['Gender'] + \"_\" + biased_df['Type']\n",
    "unbiased_df['Stratify_Key'] = unbiased_df['Gender'] + \"_\" + unbiased_df['Type']\n",
    "\n",
    "biased_df.head()"
   ]
  },
  {
   "cell_type": "markdown",
   "metadata": {},
   "source": [
    "#### Step 2 - Develop algorithm with statistical parity on blind attributes\n",
    "Decide on blind attribute model: credit score + historic loan repayment rate<br />\n",
    "Decide method of fairness: equality of false negatives<br />\n",
    "Select training data that equally represents all groups as evenly as possible<br />"
   ]
  },
  {
   "cell_type": "code",
   "execution_count": 468,
   "metadata": {},
   "outputs": [],
   "source": [
    "biased_stratify_key = biased_df['Stratify_Key']\n",
    "unbiased_stratify_key = unbiased_df['Stratify_Key']\n",
    "\n",
    "# Manually balance the group by sampling them at the same frequency\n",
    "min_group_size = biased_df['Stratify_Key'].value_counts().min()\n",
    "balanced_df = pd.DataFrame()\n",
    "\n",
    "for group in biased_df['Stratify_Key'].unique():\n",
    "    group_subset = biased_df[biased_df['Stratify_Key'] == group]\n",
    "    sampled_subset = group_subset.sample(n=min_group_size, random_state=42)\n",
    "    balanced_df = pd.concat([balanced_df, sampled_subset], axis=0)\n",
    "\n",
    "X_train = balanced_df[['Credit_Score', 'Repayment_Rate']]\n",
    "Y_train = balanced_df['Loan_Repayment']\n",
    "\n",
    "X_test = biased_df[['Credit_Score', 'Repayment_Rate']].copy()\n",
    "Y_test = biased_df['Loan_Repayment']"
   ]
  },
  {
   "cell_type": "code",
   "execution_count": 469,
   "metadata": {},
   "outputs": [],
   "source": [
    "# Train a logistic regression model focusing on credit score and historic loan repayment rate as features\n",
    "# This is a blind classifier, without any fairness\n",
    "loanClassifier_without_fairness = LogisticRegression(random_state=0).fit(X_train, Y_train)"
   ]
  },
  {
   "cell_type": "code",
   "execution_count": 470,
   "metadata": {},
   "outputs": [
    {
     "name": "stdout",
     "output_type": "stream",
     "text": [
      "0.9829\n"
     ]
    }
   ],
   "source": [
    "# print the score on the test set - remember the test set is biased as well in this case, because it's a historical test set\n",
    "print(loanClassifier_without_fairness.score(X_test, Y_test))\n",
    "Y_pred = loanClassifier_without_fairness.predict(X_test)"
   ]
  },
  {
   "cell_type": "code",
   "execution_count": 471,
   "metadata": {},
   "outputs": [
    {
     "name": "stdout",
     "output_type": "stream",
     "text": [
      "[[6772   47]\n",
      " [ 124 3057]]\n"
     ]
    }
   ],
   "source": [
    "cm = confusion_matrix(Y_test, Y_pred)\n",
    "print(cm)"
   ]
  },
  {
   "cell_type": "code",
   "execution_count": 472,
   "metadata": {},
   "outputs": [],
   "source": [
    "def plot_cm(cm):\n",
    "    classes = ['denied', 'accepted']\n",
    "    df_cm = pd.DataFrame(cm, index=classes, columns=classes)\n",
    "    ax = sn.heatmap(df_cm, annot=True, fmt='g')\n",
    "    ax.set_xlabel(\"Predicted\")\n",
    "    ax.set_ylabel(\"Target\")"
   ]
  },
  {
   "cell_type": "code",
   "execution_count": 473,
   "metadata": {},
   "outputs": [
    {
     "data": {
      "image/png": "[encoded data removed]",
      "text/plain": [
       "<Figure size 640x480 with 2 Axes>"
      ]
     },
     "metadata": {},
     "output_type": "display_data"
    }
   ],
   "source": [
    "plot_cm(cm)"
   ]
  },
  {
   "cell_type": "code",
   "execution_count": 474,
   "metadata": {},
   "outputs": [],
   "source": [
    "def calculate_group_fnr(X_test, Y_test, Y_pred):\n",
    "    group_fnr = {}\n",
    "    \n",
    "    for group in X_test['Stratify_Key'].unique():\n",
    "        # Get indices for the current group based on Stratify_Key\n",
    "        group_indices = X_test[X_test['Stratify_Key'] == group].index\n",
    "        \n",
    "        # Calculate confusion matrix for the group\n",
    "        cm = confusion_matrix(Y_test.loc[group_indices], Y_pred[group_indices])\n",
    "        TN, FP, FN, TP = cm.ravel()\n",
    "        \n",
    "        # Calculate FNR = FN / (FN + TP)\n",
    "        fnr = FN / (FN + TP) if (FN + TP) > 0 else 0\n",
    "        group_fnr[group] = fnr\n",
    "    \n",
    "    return group_fnr"
   ]
  },
  {
   "cell_type": "code",
   "execution_count": 475,
   "metadata": {},
   "outputs": [
    {
     "name": "stdout",
     "output_type": "stream",
     "text": [
      "Group false negative rates are:\n",
      "\n",
      "N/A_Snowboarder: 0.14\n",
      "Male_Skier: 0.13\n",
      "Female_Skier: 0.09\n",
      "N/A_Skier: 0.08\n",
      "Female_Snowboarder: 0.07\n",
      "Male_Snowboarder: 0.02\n"
     ]
    }
   ],
   "source": [
    "X_test['Stratify_Key'] = biased_df['Stratify_Key']\n",
    "group_fnr_biased = calculate_group_fnr(X_test, Y_test, Y_pred)\n",
    "sorted_group_fnr_biased = sorted(group_fnr_biased.items(), key=lambda item: -item[1])\n",
    "print(f\"Group false negative rates are:\")\n",
    "print(\"\")\n",
    "for key, value in sorted_group_fnr_biased:\n",
    "    print(f\"{key}: {value:.2f}\")"
   ]
  },
  {
   "cell_type": "markdown",
   "metadata": {},
   "source": [
    "#### Conclusion:\n",
    "We can see from the above that the model favours male snowboarders despite equally including all groups. And this makes sense since the model itself is as good as its data"
   ]
  },
  {
   "cell_type": "markdown",
   "metadata": {},
   "source": [
    "#### Step 3 - Develop algorithm for subgroup fairness including type, gender, credit score, repayment rates\n",
    "Decide protected attribute model: type, gender, credit score, repayment rates<br />\n",
    "Feed protected attributes into a subgroup fairness model and figure out which is the best point to have equality of false negatives<br />\n",
    "Select training data that equally represents all groups as evenly as possible<br />"
   ]
  },
  {
   "cell_type": "markdown",
   "metadata": {},
   "source": []
  }
 ],
 "metadata": {
  "kernelspec": {
   "display_name": "base",
   "language": "python",
   "name": "python3"
  },
  "language_info": {
   "codemirror_mode": {
    "name": "ipython",
    "version": 3
   },
   "file_extension": ".py",
   "mimetype": "text/x-python",
   "name": "python",
   "nbconvert_exporter": "python",
   "pygments_lexer": "ipython3",
   "version": "3.11.5"
  }
 },
 "nbformat": 4,
 "nbformat_minor": 2
}
