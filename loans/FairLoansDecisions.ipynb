{
 "cells": [
  {
   "cell_type": "markdown",
   "metadata": {},
   "source": [
    "## Aliens vs Predators - Snowboarders vs Skiers."
   ]
  },
  {
   "cell_type": "markdown",
   "metadata": {},
   "source": [
    "### Stage 1:\n",
    "Generate biased dataset of a ski condo loan. The loans targets decisions for skiers and snowboarders.\n",
    "On average, it has more data on aliens than on predators.\n",
    "On average, snowboarders pay back historic loans at higher rates than skiers.\n",
    "This bias is simulated in the data\n",
    "\n",
    "Note: The above assumption is that this is bias, it might not be, it can be simply the case that aliens are better than predators, but we assume that this is bias in the data and we try to eliminate."
   ]
  },
  {
   "cell_type": "code",
   "execution_count": 183,
   "metadata": {},
   "outputs": [],
   "source": [
    "import numpy as np\n",
    "import pandas as pd\n",
    "import seaborn as sn\n",
    "import matplotlib.pyplot as plt\n",
    "\n",
    "from sklearn.model_selection import train_test_split\n",
    "from sklearn.linear_model import LogisticRegression\n",
    "from sklearn.metrics import confusion_matrix\n",
    "from scipy.optimize import curve_fit"
   ]
  },
  {
   "cell_type": "code",
   "execution_count": 184,
   "metadata": {},
   "outputs": [
    {
     "data": {
      "text/html": [
       "<div>\n",
       "<style scoped>\n",
       "    .dataframe tbody tr th:only-of-type {\n",
       "        vertical-align: middle;\n",
       "    }\n",
       "\n",
       "    .dataframe tbody tr th {\n",
       "        vertical-align: top;\n",
       "    }\n",
       "\n",
       "    .dataframe thead th {\n",
       "        text-align: right;\n",
       "    }\n",
       "</style>\n",
       "<table border=\"1\" class=\"dataframe\">\n",
       "  <thead>\n",
       "    <tr style=\"text-align: right;\">\n",
       "      <th></th>\n",
       "      <th>Race</th>\n",
       "      <th>Type</th>\n",
       "      <th>Credit_Score</th>\n",
       "      <th>Repayment_Rate</th>\n",
       "      <th>Loan_Repayment</th>\n",
       "      <th>Stratify_Key</th>\n",
       "    </tr>\n",
       "  </thead>\n",
       "  <tbody>\n",
       "    <tr>\n",
       "      <th>0</th>\n",
       "      <td>Predator</td>\n",
       "      <td>Snowboarder</td>\n",
       "      <td>657</td>\n",
       "      <td>1</td>\n",
       "      <td>0</td>\n",
       "      <td>Predator_Snowboarder</td>\n",
       "    </tr>\n",
       "    <tr>\n",
       "      <th>1</th>\n",
       "      <td>Alien</td>\n",
       "      <td>Skier</td>\n",
       "      <td>675</td>\n",
       "      <td>1</td>\n",
       "      <td>0</td>\n",
       "      <td>Alien_Skier</td>\n",
       "    </tr>\n",
       "    <tr>\n",
       "      <th>2</th>\n",
       "      <td>Alien</td>\n",
       "      <td>Snowboarder</td>\n",
       "      <td>753</td>\n",
       "      <td>1</td>\n",
       "      <td>1</td>\n",
       "      <td>Alien_Snowboarder</td>\n",
       "    </tr>\n",
       "    <tr>\n",
       "      <th>3</th>\n",
       "      <td>Alien</td>\n",
       "      <td>Snowboarder</td>\n",
       "      <td>740</td>\n",
       "      <td>1</td>\n",
       "      <td>1</td>\n",
       "      <td>Alien_Snowboarder</td>\n",
       "    </tr>\n",
       "    <tr>\n",
       "      <th>4</th>\n",
       "      <td>Predator</td>\n",
       "      <td>Skier</td>\n",
       "      <td>650</td>\n",
       "      <td>1</td>\n",
       "      <td>0</td>\n",
       "      <td>Predator_Skier</td>\n",
       "    </tr>\n",
       "  </tbody>\n",
       "</table>\n",
       "</div>"
      ],
      "text/plain": [
       "       Race         Type  Credit_Score  Repayment_Rate  Loan_Repayment  \\\n",
       "0  Predator  Snowboarder           657               1               0   \n",
       "1     Alien        Skier           675               1               0   \n",
       "2     Alien  Snowboarder           753               1               1   \n",
       "3     Alien  Snowboarder           740               1               1   \n",
       "4  Predator        Skier           650               1               0   \n",
       "\n",
       "           Stratify_Key  \n",
       "0  Predator_Snowboarder  \n",
       "1           Alien_Skier  \n",
       "2     Alien_Snowboarder  \n",
       "3     Alien_Snowboarder  \n",
       "4        Predator_Skier  "
      ]
     },
     "execution_count": 184,
     "metadata": {},
     "output_type": "execute_result"
    }
   ],
   "source": [
    "race_choices = ['Alien', 'Predator']\n",
    "race_probs = [0.75, 0.25]\n",
    "num_samples=3000\n",
    "num_samples_unbiased=5000\n",
    "\n",
    "def biased_credit_score(row, not_biased=False):\n",
    "    if row['Race'] == 'Alien' and row['Type'] == 'Snowboarder' and not not_biased:\n",
    "        return np.random.normal(loc=750, scale=20)\n",
    "    else:\n",
    "        return np.random.normal(loc=660, scale=10)\n",
    "    \n",
    "def biased_repayment_rate(row, not_biased=False):\n",
    "    if row['Race'] == 'Alien' and row['Type'] == 'Snowboarder' and not not_biased:\n",
    "        return np.random.choice([0, 1], p=[0.2, 0.8]) # biased towards snowboarder\n",
    "    else:\n",
    "        return np.random.choice([0, 1], p=[0.4, 0.6])\n",
    "\n",
    "biased_data = {\n",
    "    'Race': np.random.choice(race_choices, num_samples, p=race_probs),\n",
    "    'Type': np.random.choice(['Skier', 'Snowboarder'], num_samples)\n",
    "}\n",
    "\n",
    "biased_df = pd.DataFrame(biased_data)\n",
    "biased_df['Credit_Score'] = biased_df.apply(biased_credit_score, axis=1).astype(int)\n",
    "biased_df['Repayment_Rate'] = biased_df.apply(biased_repayment_rate, axis=1)\n",
    "\n",
    "biased_df['Credit_Score'] = biased_df['Credit_Score'].clip(lower=300, upper=850)\n",
    "\n",
    "# target\n",
    "biased_df['Loan_Repayment'] = ((biased_df['Credit_Score'] > 680) & (biased_df['Repayment_Rate'] == 1)).astype(int)\n",
    "biased_df['Stratify_Key'] = biased_df['Race'] + \"_\" + biased_df['Type']\n",
    "biased_df.head()"
   ]
  },
  {
   "cell_type": "code",
   "execution_count": 185,
   "metadata": {},
   "outputs": [],
   "source": [
    "error_rates = []\n",
    "fairness_scores = []\n",
    "\n",
    "def calculate_error_rate(accuracy):\n",
    "    return 1 - accuracy\n",
    "\n",
    "def calculate_fairness_score(group_fnr_biased):\n",
    "    max_value = max(group_fnr_biased, key=lambda x: x[1])[1]\n",
    "    min_value = min(group_fnr_biased, key=lambda x: x[1])[1]\n",
    "    \n",
    "    return max_value - min_value"
   ]
  },
  {
   "cell_type": "markdown",
   "metadata": {},
   "source": [
    "#### Step 2 - Develop algorithm with statistical parity on blind attributes\n",
    "Decide on blind attribute model: credit score + historic loan repayment rate<br />\n",
    "Decide method of fairness: equality of false negatives<br />\n",
    "Select training data that equally represents all groups as evenly as possible<br />"
   ]
  },
  {
   "cell_type": "code",
   "execution_count": 186,
   "metadata": {},
   "outputs": [
    {
     "name": "stdout",
     "output_type": "stream",
     "text": [
      "Stratify_Key\n",
      "Predator_Snowboarder    373\n",
      "Alien_Skier             373\n",
      "Alien_Snowboarder       373\n",
      "Predator_Skier          373\n",
      "Name: count, dtype: int64\n"
     ]
    }
   ],
   "source": [
    "biased_stratify_key = biased_df['Stratify_Key']\n",
    "unbiased_stratify_key = unbiased_df['Stratify_Key']\n",
    "\n",
    "# Manually balance the group by sampling them at the same frequency\n",
    "min_group_size = biased_df['Stratify_Key'].value_counts().min()\n",
    "balanced_df = pd.DataFrame()\n",
    "\n",
    "for group in biased_df['Stratify_Key'].unique():\n",
    "    group_subset = biased_df[biased_df['Stratify_Key'] == group]\n",
    "    sampled_subset = group_subset.sample(n=min_group_size, random_state=42)\n",
    "    balanced_df = pd.concat([balanced_df, sampled_subset], axis=0)\n",
    "\n",
    "X_train = balanced_df[['Credit_Score', 'Repayment_Rate']]\n",
    "Y_train = balanced_df['Loan_Repayment']\n",
    "\n",
    "X_test = biased_df[['Credit_Score', 'Repayment_Rate']].copy()\n",
    "Y_test = biased_df['Loan_Repayment']\n",
    "\n",
    "group_counts = balanced_df['Stratify_Key'].value_counts()\n",
    "\n",
    "# Print the number of entries for each group\n",
    "print(group_counts)"
   ]
  },
  {
   "cell_type": "code",
   "execution_count": 187,
   "metadata": {},
   "outputs": [],
   "source": [
    "# Train a logistic regression model focusing on credit score and historic loan repayment rate as features\n",
    "# This is a blind classifier, without any fairness\n",
    "loanClassifier_without_fairness = LogisticRegression(random_state=0).fit(X_train, Y_train)"
   ]
  },
  {
   "cell_type": "code",
   "execution_count": 188,
   "metadata": {},
   "outputs": [
    {
     "name": "stdout",
     "output_type": "stream",
     "text": [
      "Accuracy is: 0.9886666666666667\n"
     ]
    }
   ],
   "source": [
    "# print the score on the test set - remember the test set is biased as well in this case, because it's a historical test set\n",
    "accuracy = loanClassifier_without_fairness.score(X_test, Y_test)\n",
    "print(f\"Accuracy is: {accuracy}\")\n",
    "Y_pred = loanClassifier_without_fairness.predict(X_test)\n",
    "\n",
    "error_rates.append(calculate_error_rate(accuracy))"
   ]
  },
  {
   "cell_type": "code",
   "execution_count": 189,
   "metadata": {},
   "outputs": [
    {
     "name": "stdout",
     "output_type": "stream",
     "text": [
      "[[2100    8]\n",
      " [  26  866]]\n"
     ]
    }
   ],
   "source": [
    "cm = confusion_matrix(Y_test, Y_pred)\n",
    "print(cm)"
   ]
  },
  {
   "cell_type": "code",
   "execution_count": 190,
   "metadata": {},
   "outputs": [],
   "source": [
    "def plot_cm(cm):\n",
    "    classes = ['denied', 'accepted']\n",
    "    df_cm = pd.DataFrame(cm, index=classes, columns=classes)\n",
    "    ax = sn.heatmap(df_cm, annot=True, fmt='g')\n",
    "    ax.set_xlabel(\"Predicted\")\n",
    "    ax.set_ylabel(\"Target\")"
   ]
  },
  {
   "cell_type": "code",
   "execution_count": 191,
   "metadata": {},
   "outputs": [
    {
     "data": {
      "image/png": "[encoded data removed]",
      "text/plain": [
       "<Figure size 640x480 with 2 Axes>"
      ]
     },
     "metadata": {},
     "output_type": "display_data"
    }
   ],
   "source": [
    "plot_cm(cm)"
   ]
  },
  {
   "cell_type": "code",
   "execution_count": 192,
   "metadata": {},
   "outputs": [],
   "source": [
    "def calculate_group_fnr(X_test, Y_test, Y_pred):\n",
    "    group_fnr = {}\n",
    "    \n",
    "    for group in X_test['Stratify_Key'].unique():\n",
    "        # Get indices for the current group based on Stratify_Key\n",
    "        group_indices = X_test[X_test['Stratify_Key'] == group].index\n",
    "        \n",
    "        # Calculate confusion matrix for the group\n",
    "        cm = confusion_matrix(Y_test.loc[group_indices], Y_pred[group_indices])\n",
    "        TN, FP, FN, TP = cm.ravel()\n",
    "        \n",
    "        # Calculate FNR = FN / (FN + TP)\n",
    "        fnr = FN / (FN + TP) if (FN + TP) > 0 else 0\n",
    "        group_fnr[group] = fnr\n",
    "    \n",
    "    return group_fnr"
   ]
  },
  {
   "cell_type": "code",
   "execution_count": 193,
   "metadata": {},
   "outputs": [
    {
     "name": "stdout",
     "output_type": "stream",
     "text": [
      "Group false negative rates are:\n",
      "\n",
      "Predator_Snowboarder: 1.00\n",
      "Alien_Skier: 1.00\n",
      "Predator_Skier: 1.00\n",
      "Alien_Snowboarder: 0.02\n",
      "Fairness bias: 0.9840909090909091\n"
     ]
    }
   ],
   "source": [
    "X_test['Stratify_Key'] = biased_df['Stratify_Key']\n",
    "group_fnr_biased = calculate_group_fnr(X_test, Y_test, Y_pred)\n",
    "sorted_group_fnr_biased = sorted(group_fnr_biased.items(), key=lambda item: -item[1])\n",
    "print(f\"Group false negative rates are:\")\n",
    "print(\"\")\n",
    "for key, value in sorted_group_fnr_biased:\n",
    "    print(f\"{key}: {value:.2f}\")\n",
    "    \n",
    "fairness_scores.append(calculate_fairness_score(sorted_group_fnr_biased))\n",
    "print(f\"Fairness bias: {calculate_fairness_score(sorted_group_fnr_biased)}\")"
   ]
  },
  {
   "cell_type": "markdown",
   "metadata": {},
   "source": [
    "#### Conclusion:\n",
    "We can see from the above that the model favours alien snowboarders despite equally including all groups. And this makes sense since the model itself is as good as its data"
   ]
  },
  {
   "cell_type": "markdown",
   "metadata": {},
   "source": [
    "#### Step 3 - Develop algorithm for subgroup fairness including type, race, credit score, repayment rates\n",
    "Decide protected attribute model: type, race, credit score, repayment rates<br />\n",
    "Feed protected attributes into a subgroup fairness model and figure out which is the best point to have equality of false negatives<br />\n",
    "Select training data that equally represents all groups as evenly as possible<br />"
   ]
  },
  {
   "cell_type": "code",
   "execution_count": 194,
   "metadata": {},
   "outputs": [
    {
     "name": "stdout",
     "output_type": "stream",
     "text": [
      "Iteration number 1.0 for bias adjustment:\n",
      "Accuracy is: 0.9763333333333334\n",
      "Fairness bias: 1.0\n",
      "\n",
      "Iteration number 3.25 for bias adjustment:\n",
      "Accuracy is: 0.9226666666666666\n",
      "Fairness bias: 0.2\n",
      "\n",
      "Iteration number 5.5 for bias adjustment:\n",
      "Accuracy is: 0.9216666666666666\n",
      "Fairness bias: 0.0\n",
      "\n",
      "Iteration number 7.75 for bias adjustment:\n",
      "Accuracy is: 0.7026666666666667\n",
      "Fairness bias: 0.0\n",
      "\n",
      "Iteration number 10.0 for bias adjustment:\n",
      "Accuracy is: 0.997\n",
      "Fairness bias: 1.0\n",
      "\n"
     ]
    }
   ],
   "source": [
    "# try to implement weight adjustment in the regression model where the weights\n",
    "# are balanced based on false negatives - this is essentially the protected attributes subgroup\n",
    "# fairness strategy\n",
    "\n",
    "group = balanced_df['Stratify_Key']\n",
    "min_fnr = min(sorted_group_fnr_biased, key=lambda x: x[1])[1]\n",
    "\n",
    "min_power_factor = 1\n",
    "max_power_factor = 10\n",
    "\n",
    "num_points = 5\n",
    "epsilon = 1e-6\n",
    "\n",
    "X_test = biased_df[['Credit_Score', 'Repayment_Rate']].copy()\n",
    "Y_test = biased_df['Loan_Repayment']\n",
    "\n",
    "for i in np.linspace(min_power_factor, max_power_factor, num_points):\n",
    "    print(f\"Iteration number {i} for bias adjustment:\")\n",
    "    X_test = biased_df[['Credit_Score', 'Repayment_Rate']].copy()\n",
    "    weights = np.ones(len(Y_train))\n",
    "\n",
    "    for group_label, bias_rate in sorted_group_fnr_biased:\n",
    "        bias_ratio = (bias_rate / (min_fnr + epsilon)) ** power_factor\n",
    "        weights[group == group_label] = 60 if bias_ratio > 60 else bias_ratio\n",
    "        \n",
    "    loanClassifier_with_subgroup_fairness = LogisticRegression(random_state=0)\n",
    "    loanClassifier_with_subgroup_fairness.fit(X_train, Y_train, sample_weight=weights)\n",
    "    \n",
    "    accuracy = loanClassifier_with_subgroup_fairness.score(X_test, Y_test)\n",
    "    print(f\"Accuracy is: {accuracy}\")\n",
    "    Y_pred = loanClassifier_with_subgroup_fairness.predict(X_test)\n",
    "    error_rates.append(calculate_error_rate(accuracy))\n",
    "    \n",
    "    X_test['Stratify_Key'] = biased_df['Stratify_Key']\n",
    "    group_fnr_biased = calculate_group_fnr(X_test, Y_test, Y_pred)\n",
    "    sorted_group_fnr_biased = sorted(group_fnr_biased.items(), key=lambda item: -item[1])\n",
    "\n",
    "    fairness_scores.append(calculate_fairness_score(sorted_group_fnr_biased))\n",
    "    print(f\"Fairness bias: {calculate_fairness_score(sorted_group_fnr_biased)}\")\n",
    "    print(\"\")"
   ]
  },
  {
   "cell_type": "markdown",
   "metadata": {},
   "source": [
    "### Conclusion\n",
    "The model does way better on false negatives considering all groups but performance is affected"
   ]
  },
  {
   "cell_type": "markdown",
   "metadata": {},
   "source": [
    "### Step 3\n",
    "Plot pareto efficiency plot for the two models"
   ]
  },
  {
   "cell_type": "code",
   "execution_count": 195,
   "metadata": {},
   "outputs": [
    {
     "name": "stdout",
     "output_type": "stream",
     "text": [
      "[[0.01133333 0.98409091]\n",
      " [0.02366667 1.        ]\n",
      " [0.07733333 0.2       ]\n",
      " [0.07833333 0.        ]\n",
      " [0.29733333 0.        ]\n",
      " [0.003      1.        ]]\n"
     ]
    },
    {
     "data": {
      "text/plain": [
       "Text(0, 0.5, 'Bias Rate')"
      ]
     },
     "execution_count": 195,
     "metadata": {},
     "output_type": "execute_result"
    },
    {
     "data": {
      "image/png": "[encoded data removed]",
      "text/plain": [
       "<Figure size 640x480 with 1 Axes>"
      ]
     },
     "metadata": {},
     "output_type": "display_data"
    }
   ],
   "source": [
    "combined_scores = np.vstack((error_rates, fairness_scores)).T\n",
    "error_rates = np.array(error_rates)\n",
    "fairness_scores = np.array(fairness_scores)\n",
    "\n",
    "colormap = plt.cm.viridis\n",
    "norm = plt.Normalize(0, len(error_rates)-1)\n",
    "colors = [colormap(norm(i)) for i in range(len(error_rates))]\n",
    "\n",
    "# Plotting all points\n",
    "plt.scatter(error_rates, fairness_scores, c=colors, label='Non-Pareto Optimal')\n",
    "\n",
    "print(combined_scores)\n",
    "\n",
    "# fitting a hyberbolic line\n",
    "def hyperbolic(x, a, b, c):\n",
    "    return a / (x + b) + c\n",
    "\n",
    "params, params_covariance = curve_fit(hyperbolic, error_rates, fairness_scores, p0=[1, 1, 1])\n",
    "x_model = np.linspace(min(error_rates), max(error_rates), 400)\n",
    "y_model = hyperbolic(x_model, *params)\n",
    "plt.plot(x_model, y_model, label='Fitted $\\dfrac{1}{x}$ model', color='red')\n",
    "\n",
    "plt.title('Pareto Efficiency Plot')\n",
    "plt.xlabel('Error Rate')\n",
    "plt.ylabel('Bias Rate')"
   ]
  },
  {
   "cell_type": "markdown",
   "metadata": {},
   "source": [
    "### Trade-off\n",
    "We can conclude that there is a trade-off between error rate and fairness score, therefore the model is not perfect but it has the possbility to provide an accurate trade-off between performance and subgroup fairness."
   ]
  }
 ],
 "metadata": {
  "kernelspec": {
   "display_name": "base",
   "language": "python",
   "name": "python3"
  },
  "language_info": {
   "codemirror_mode": {
    "name": "ipython",
    "version": 3
   },
   "file_extension": ".py",
   "mimetype": "text/x-python",
   "name": "python",
   "nbconvert_exporter": "python",
   "pygments_lexer": "ipython3",
   "version": "3.11.5"
  }
 },
 "nbformat": 4,
 "nbformat_minor": 2
}
